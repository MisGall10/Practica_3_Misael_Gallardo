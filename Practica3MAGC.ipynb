{
  "nbformat": 4,
  "nbformat_minor": 0,
  "metadata": {
    "colab": {
      "provenance": [],
      "toc_visible": true,
      "authorship_tag": "ABX9TyMqxdKDbh52Jq4kceoBn5se",
      "include_colab_link": true
    },
    "kernelspec": {
      "name": "python3",
      "display_name": "Python 3"
    },
    "language_info": {
      "name": "python"
    }
  },
  "cells": [
    {
      "cell_type": "markdown",
      "metadata": {
        "id": "view-in-github",
        "colab_type": "text"
      },
      "source": [
        "<a href=\"https://colab.research.google.com/github/MisGall10/Practica_3_Misael_Gallardo/blob/main/Practica3MAGC.ipynb\" target=\"_parent\"><img src=\"https://colab.research.google.com/assets/colab-badge.svg\" alt=\"Open In Colab\"/></a>"
      ]
    },
    {
      "cell_type": "markdown",
      "source": [
        "# **Practica # 2. Creacion de un arreglo y operaciones básicas**\n",
        "\n",
        "Crea un arreglo unidimensional de 20 elementos con valores aleatorios entre 1 y 100. Luego, realiza las siguientes operaciones:\n",
        "\n",
        "1. Encuentra el valor máximo del arreglo.\n",
        "\n",
        "2. Encuentra el valor mínimo del arreglo.\n",
        "\n",
        "3. Calcula la media del arreglo.\n",
        "\n",
        "4. Suma 10 a cada elemento del arreglo.\n"
      ],
      "metadata": {
        "id": "h-EPK3Z4oJJt"
      }
    },
    {
      "cell_type": "code",
      "execution_count": 19,
      "metadata": {
        "colab": {
          "base_uri": "https://localhost:8080/"
        },
        "id": "ZzqBjwZkn5-f",
        "outputId": "81a43764-94ce-4172-fa10-60ae49aee40b"
      },
      "outputs": [
        {
          "output_type": "stream",
          "name": "stdout",
          "text": [
            "Este es el arreglo original: [27 86 71 91 49 97 28 31  9 73  8 99 42 25 36 95 63 65 12 74]\n",
            "1. Este es el valor máximo del arreglo: 99\n",
            "2. Este es el valor minmo del arreglo: 8\n",
            "3. Esta es la media del arreglo: 54.05\n",
            "3. Esta es arreglo + 10: [ 37  96  81 101  59 107  38  41  19  83  18 109  52  35  46 105  73  75\n",
            "  22  84]\n"
          ]
        }
      ],
      "source": [
        "#Iportamos la libreria y la nombramos como np\n",
        "import numpy as np\n",
        "#iniciamos la variable arreglo y con ayuda de np.random.randit ponemos que\n",
        "#queremos valores de 0-100 y un total de 20 valores\n",
        "arreglo = np.random.randint(0,101,20)\n",
        "#Imprimimos el arreglo original\n",
        "print(f'Este es el arreglo original: {arreglo}')\n",
        "#Imprimimos el valor maximo del arreglo\n",
        "print(f'1. Este es el valor máximo del arreglo: {np.max(arreglo)}')\n",
        "#Imprimimos el valor minimo del arreglo\n",
        "print(f'2. Este es el valor minmo del arreglo: {np.min(arreglo)}')\n",
        "#Imprimimos la media del arreglo\n",
        "print(f'3. Esta es la media del arreglo: {np.mean(arreglo)}')\n",
        "#Imprimimos el valor del arreglo +10 a cada elemento\n",
        "print(f'4. Esta es arreglo + 10: {arreglo+10}')"
      ]
    }
  ]
}